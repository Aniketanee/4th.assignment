{
 "cells": [
  {
   "cell_type": "markdown",
   "id": "8d992365-406f-4853-9374-b5d2b4d27971",
   "metadata": {},
   "source": [
    "Question .1"
   ]
  },
  {
   "cell_type": "code",
   "execution_count": 15,
   "id": "22589400-279f-4343-8439-665fb537a68c",
   "metadata": {},
   "outputs": [
    {
     "name": "stdout",
     "output_type": "stream",
     "text": [
      "('Jack Kallis', 25534)\n",
      "('Ricky Ponting', 27483)\n",
      "('Sachin Tendulkar', 34357)\n",
      "('Virat Kohli', 24936)\n"
     ]
    }
   ],
   "source": [
    "my_list = [('Sachin Tendulkar', 34357), ('Ricky Ponting',27483), ('Jack Kallis',25534), ('Virat Kohli', 24936)]\n",
    "sorted_list = sorted(my_list, key=lambda x: x[0])\n",
    "for item in sorted_list:\n",
    "    print(item)\n"
   ]
  },
  {
   "cell_type": "markdown",
   "id": "98d036ec-0e86-4c01-964e-872380b8aeac",
   "metadata": {},
   "source": [
    "Question .2"
   ]
  },
  {
   "cell_type": "code",
   "execution_count": 25,
   "id": "9e1a77f5-92f6-4004-bb75-f530992a4dba",
   "metadata": {},
   "outputs": [
    {
     "name": "stdout",
     "output_type": "stream",
     "text": [
      "[1, 4, 9, 16, 25, 36, 49, 64, 81, 100]\n"
     ]
    }
   ],
   "source": [
    "numbers = [1, 2, 3, 4, 5, 6, 7, 8, 9, 10]\n",
    "squared_numbers = list(map(lambda x: x**2, numbers))\n",
    "print(squared_numbers)\n"
   ]
  },
  {
   "cell_type": "markdown",
   "id": "dd5e9584-2ab6-470d-bc31-d4cec0eebfad",
   "metadata": {},
   "source": [
    "Question .3"
   ]
  },
  {
   "cell_type": "code",
   "execution_count": 36,
   "id": "6cc31609-cc87-472b-8279-307f8a59534c",
   "metadata": {},
   "outputs": [
    {
     "name": "stdout",
     "output_type": "stream",
     "text": [
      "('1', '2', '3', '4', '5', '6', '7', '8', '9', '10')\n"
     ]
    }
   ],
   "source": [
    "numbers = [1, 2, 3, 4, 5, 6, 7, 8, 9, 10]\n",
    "tuple_of_strings = tuple(map(lambda x: str(x), numbers))\n",
    "print(tuple_of_strings)\n"
   ]
  },
  {
   "cell_type": "markdown",
   "id": "d01302f7-c831-4544-8446-3b6ab0eb3b34",
   "metadata": {},
   "source": [
    "Question .4"
   ]
  },
  {
   "cell_type": "code",
   "execution_count": 45,
   "id": "c928d2c7-8770-4eef-a63a-c721afc1f1f2",
   "metadata": {},
   "outputs": [
    {
     "name": "stdout",
     "output_type": "stream",
     "text": [
      "Product: 15511210043330985984000000\n"
     ]
    }
   ],
   "source": [
    "from functools import reduce\n",
    "numbers = list(range(1, 26))\n",
    "product = reduce(lambda x, y: x * y, numbers)\n",
    "print(\"Product:\", product)\n"
   ]
  },
  {
   "cell_type": "markdown",
   "id": "bb039cf7-53ad-4a76-afcb-aeceaf2ca036",
   "metadata": {},
   "source": [
    "Question .5"
   ]
  },
  {
   "cell_type": "code",
   "execution_count": 53,
   "id": "78c4c9a6-4f58-44f0-9327-2c0d8770aadf",
   "metadata": {},
   "outputs": [
    {
     "name": "stdout",
     "output_type": "stream",
     "text": [
      "[6, 60, 90, 120]\n"
     ]
    }
   ],
   "source": [
    "numbers = [2, 3, 6, 9, 27, 60, 90, 120, 55, 46]\n",
    "filtered_numbers = list(filter(lambda x: x % 2 == 0 and x % 3 == 0, numbers))\n",
    "print(filtered_numbers)\n"
   ]
  },
  {
   "cell_type": "markdown",
   "id": "ef749c97-0cdf-4985-93e8-f1919ac8ea19",
   "metadata": {},
   "source": [
    "Question .6"
   ]
  },
  {
   "cell_type": "code",
   "execution_count": 64,
   "id": "56b2ca82-67be-41f1-b605-293cd1957adc",
   "metadata": {},
   "outputs": [
    {
     "name": "stdout",
     "output_type": "stream",
     "text": [
      "['php', 'aba', 'radar', 'level']\n"
     ]
    }
   ],
   "source": [
    "strings = ['python', 'php', 'aba', 'radar', 'level']\n",
    "palindromes = list(filter(lambda x: x == x[::-1], strings))\n",
    "print(palindromes)\n"
   ]
  },
  {
   "cell_type": "code",
   "execution_count": null,
   "id": "bf42b433-b0af-4095-b7d0-3b30be520550",
   "metadata": {},
   "outputs": [],
   "source": []
  }
 ],
 "metadata": {
  "kernelspec": {
   "display_name": "Python 3 (ipykernel)",
   "language": "python",
   "name": "python3"
  },
  "language_info": {
   "codemirror_mode": {
    "name": "ipython",
    "version": 3
   },
   "file_extension": ".py",
   "mimetype": "text/x-python",
   "name": "python",
   "nbconvert_exporter": "python",
   "pygments_lexer": "ipython3",
   "version": "3.10.8"
  }
 },
 "nbformat": 4,
 "nbformat_minor": 5
}
